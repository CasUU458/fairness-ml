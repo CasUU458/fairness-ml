{
  "metadata": {
    "colab": {
      "name": "programming_assignment_fairness_v2 (2).ipynb",
      "provenance": [],
      "include_colab_link": true
    },
    "kernelspec": {
      "name": "python3",
      "display_name": "Python 3",
      "language": "python"
    },
    "language_info": {
      "name": "python",
      "version": "3.7.12",
      "mimetype": "text/x-python",
      "codemirror_mode": {
        "name": "ipython",
        "version": 3
      },
      "pygments_lexer": "ipython3",
      "nbconvert_exporter": "python",
      "file_extension": ".py"
    }
  },
  "nbformat_minor": 0,
  "nbformat": 4,
  "cells": [
    {
      "cell_type": "markdown",
      "metadata": {
        "id": "view-in-github",
        "colab_type": "text"
      },
      "source": [
        "<a href=\"https://colab.research.google.com/github/delomeo/fairness-ml/blob/main/fairness-ml.ipynb\" target=\"_parent\"><img src=\"https://colab.research.google.com/assets/colab-badge.svg\" alt=\"Open In Colab\"/></a>"
      ]
    },
    {
      "cell_type": "markdown",
      "source": [
        "# Submission instructions \n",
        "\n",
        "All code that you write should be in this notebook.\n",
        "Submit:\n",
        "\n",
        "* This notebook with your code added. Make sure to add enough documentation.\n",
        "* A short report, max 2 pages including any figures and/or tables (it is likely that you won't need the full 2 pages). Use [this template](https://www.overleaf.com/read/mvskntycrckw). \n",
        "\n",
        "For questions, make use of the \"Lab\" session (see schedule).\n",
        "Questions can also be posted to the MS teams channel called \"Lab\". \n"
      ],
      "metadata": {
        "id": "JVBQ-6Vmxu6j"
      }
    },
    {
      "cell_type": "markdown",
      "source": [
        "# Installing AIF360"
      ],
      "metadata": {
        "id": "jQx2YpXIxu6m"
      }
    },
    {
      "cell_type": "markdown",
      "source": [
        "In this assignment, we're going to use the AIF360 library.\n",
        "For documentation, take a look at:\n",
        "\n",
        "    * https://aif360.mybluemix.net/\n",
        "    * https://aif360.readthedocs.io/en/latest/ (API documentation)\n",
        "    * https://github.com/Trusted-AI/AIF360 Installation instructions\n",
        "\n",
        "We recommend using a dedicated Python environment for this assignment, for example\n",
        "by using Conda (https://docs.conda.io/en/latest/).\n",
        "You could also use Google Colab (https://colab.research.google.com/).\n",
        "\n",
        "When installing AIF360, you only need to install the stable, basic version (e.g., pip install aif360)\n",
        "You don't need to install the additional optional dependencies.\n",
        "\n",
        "The library itself provides some examples in the GitHub repository, see:\n",
        "https://github.com/Trusted-AI/AIF360/tree/master/examples.\n",
        "\n",
        "**Notes**\n",
        "* The lines below starting with ! can be used in Google Colab. You can also comment them out and manually install these libraries in your console\n",
        "* The first time you're running the import statements, you may get a warning \"No module named tensorflow\".\n",
        "  This can be ignored--we don't need it for this assignment. Just run the code block again, and it should disappear"
      ],
      "metadata": {
        "id": "4-pc9YhRxu6n"
      }
    },
    {
      "cell_type": "code",
      "source": [
        "!pip install aif360\n",
        "!pip install fairlearn\n",
        "\n",
        "from aif360.algorithms.preprocessing.optim_preproc_helpers.data_preproc_functions import load_preproc_data_compas\n",
        "from aif360.metrics import BinaryLabelDatasetMetric"
      ],
      "metadata": {
        "id": "GYqgmESHxu6n",
        "execution": {
          "iopub.status.busy": "2023-04-30T17:55:13.283990Z",
          "iopub.execute_input": "2023-04-30T17:55:13.284401Z",
          "iopub.status.idle": "2023-04-30T17:55:48.134754Z",
          "shell.execute_reply.started": "2023-04-30T17:55:13.284367Z",
          "shell.execute_reply": "2023-04-30T17:55:48.133632Z"
        },
        "trusted": true,
        "outputId": "62a345c0-2235-4c41-be5c-d8d1b2c1be65",
        "colab": {
          "base_uri": "https://localhost:8080/"
        }
      },
      "execution_count": null,
      "outputs": [
        {
          "output_type": "stream",
          "name": "stdout",
          "text": [
            "Looking in indexes: https://pypi.org/simple, https://us-python.pkg.dev/colab-wheels/public/simple/\n",
            "Requirement already satisfied: aif360 in /usr/local/lib/python3.10/dist-packages (0.5.0)\n",
            "Requirement already satisfied: numpy>=1.16 in /usr/local/lib/python3.10/dist-packages (from aif360) (1.22.4)\n",
            "Requirement already satisfied: scipy>=1.2.0 in /usr/local/lib/python3.10/dist-packages (from aif360) (1.10.1)\n",
            "Requirement already satisfied: pandas>=0.24.0 in /usr/local/lib/python3.10/dist-packages (from aif360) (1.5.3)\n",
            "Requirement already satisfied: scikit-learn>=1.0 in /usr/local/lib/python3.10/dist-packages (from aif360) (1.2.2)\n",
            "Requirement already satisfied: matplotlib in /usr/local/lib/python3.10/dist-packages (from aif360) (3.7.1)\n",
            "Requirement already satisfied: python-dateutil>=2.8.1 in /usr/local/lib/python3.10/dist-packages (from pandas>=0.24.0->aif360) (2.8.2)\n",
            "Requirement already satisfied: pytz>=2020.1 in /usr/local/lib/python3.10/dist-packages (from pandas>=0.24.0->aif360) (2022.7.1)\n",
            "Requirement already satisfied: joblib>=1.1.1 in /usr/local/lib/python3.10/dist-packages (from scikit-learn>=1.0->aif360) (1.2.0)\n",
            "Requirement already satisfied: threadpoolctl>=2.0.0 in /usr/local/lib/python3.10/dist-packages (from scikit-learn>=1.0->aif360) (3.1.0)\n",
            "Requirement already satisfied: contourpy>=1.0.1 in /usr/local/lib/python3.10/dist-packages (from matplotlib->aif360) (1.0.7)\n",
            "Requirement already satisfied: cycler>=0.10 in /usr/local/lib/python3.10/dist-packages (from matplotlib->aif360) (0.11.0)\n",
            "Requirement already satisfied: fonttools>=4.22.0 in /usr/local/lib/python3.10/dist-packages (from matplotlib->aif360) (4.39.3)\n",
            "Requirement already satisfied: kiwisolver>=1.0.1 in /usr/local/lib/python3.10/dist-packages (from matplotlib->aif360) (1.4.4)\n",
            "Requirement already satisfied: packaging>=20.0 in /usr/local/lib/python3.10/dist-packages (from matplotlib->aif360) (23.1)\n",
            "Requirement already satisfied: pillow>=6.2.0 in /usr/local/lib/python3.10/dist-packages (from matplotlib->aif360) (8.4.0)\n",
            "Requirement already satisfied: pyparsing>=2.3.1 in /usr/local/lib/python3.10/dist-packages (from matplotlib->aif360) (3.0.9)\n",
            "Requirement already satisfied: six>=1.5 in /usr/local/lib/python3.10/dist-packages (from python-dateutil>=2.8.1->pandas>=0.24.0->aif360) (1.16.0)\n",
            "Looking in indexes: https://pypi.org/simple, https://us-python.pkg.dev/colab-wheels/public/simple/\n",
            "Requirement already satisfied: fairlearn in /usr/local/lib/python3.10/dist-packages (0.8.0)\n",
            "Requirement already satisfied: numpy>=1.17.2 in /usr/local/lib/python3.10/dist-packages (from fairlearn) (1.22.4)\n",
            "Requirement already satisfied: pandas>=0.25.1 in /usr/local/lib/python3.10/dist-packages (from fairlearn) (1.5.3)\n",
            "Requirement already satisfied: scikit-learn>=0.22.1 in /usr/local/lib/python3.10/dist-packages (from fairlearn) (1.2.2)\n",
            "Requirement already satisfied: scipy>=1.4.1 in /usr/local/lib/python3.10/dist-packages (from fairlearn) (1.10.1)\n",
            "Requirement already satisfied: python-dateutil>=2.8.1 in /usr/local/lib/python3.10/dist-packages (from pandas>=0.25.1->fairlearn) (2.8.2)\n",
            "Requirement already satisfied: pytz>=2020.1 in /usr/local/lib/python3.10/dist-packages (from pandas>=0.25.1->fairlearn) (2022.7.1)\n",
            "Requirement already satisfied: joblib>=1.1.1 in /usr/local/lib/python3.10/dist-packages (from scikit-learn>=0.22.1->fairlearn) (1.2.0)\n",
            "Requirement already satisfied: threadpoolctl>=2.0.0 in /usr/local/lib/python3.10/dist-packages (from scikit-learn>=0.22.1->fairlearn) (3.1.0)\n",
            "Requirement already satisfied: six>=1.5 in /usr/local/lib/python3.10/dist-packages (from python-dateutil>=2.8.1->pandas>=0.25.1->fairlearn) (1.16.0)\n"
          ]
        }
      ]
    },
    {
      "cell_type": "markdown",
      "source": [
        "# Exploring the data"
      ],
      "metadata": {
        "id": "XMAamjIhxu6n"
      }
    },
    {
      "cell_type": "markdown",
      "source": [
        "**COMPAS dataset**\n",
        "\n",
        "In this assignment we're going to use the COMPAS dataset.\n",
        "\n",
        "If you haven't done so already, take a look at this article: https://www.propublica.org/article/machine-bias-risk-assessments-in-criminal-sentencing.\n",
        "For background on the dataset, see https://www.propublica.org/article/how-we-analyzed-the-compas-recidivism-algorithm.\n",
        "\n",
        "**Reading in the COMPAS dataset**\n",
        "\n",
        "The AIF360 library has already built in code to read in this dataset.\n",
        "However, you'll first need to manually download the COMPAS dataset \n",
        "and put it into a specified directory. \n",
        "See: https://github.com/Trusted-AI/AIF360/blob/master/aif360/data/raw/compas/README.md.\n",
        "If you try to load in the dataset for the first time, the library will give you instructions on the steps to download the data.\n",
        "\n",
        "The protected attributes in this dataset are 'sex' and 'race'. \n",
        "For this assignment, we'll only focus on race.\n",
        "\n",
        "The label codes recidivism, which they defined as a new arrest within 2 years. \n",
        "Note that in this dataset, the label is coded with 1 being the favorable label."
      ],
      "metadata": {
        "id": "WULE5A7jxu6n",
        "_kg_hide-input": true,
        "_kg_hide-output": true
      }
    },
    {
      "cell_type": "code",
      "source": [
        "!wget -c https://raw.githubusercontent.com/propublica/compas-analysis/master/compas-scores-two-years.csv\n",
        "!mv compas-scores-two-years.csv /usr/local/lib/python3.10/dist-packages/aif360/data/raw/compas\n",
        "\n",
        "# # For Google Colab, the DATA_PATH is /usr/local/lib/python3.7/dist-packages/aif360/data/raw/compas\n",
        "# For Kaggle Notebooks, the DATA_PATH is /opt/conda/lib/python3.7/site-packages/aif360/data/raw/compas\n",
        "\n",
        "from aif360.datasets import CompasDataset\n",
        "compas_data = load_preproc_data_compas(protected_attributes=['race'])"
      ],
      "metadata": {
        "id": "ntZORDbtxu6n",
        "execution": {
          "iopub.status.busy": "2023-04-30T18:11:13.199623Z",
          "iopub.execute_input": "2023-04-30T18:11:13.200767Z",
          "iopub.status.idle": "2023-04-30T18:11:14.507362Z",
          "shell.execute_reply.started": "2023-04-30T18:11:13.200721Z",
          "shell.execute_reply": "2023-04-30T18:11:14.505841Z"
        },
        "trusted": true,
        "outputId": "bcdd9cd1-3704-4089-a661-c39f94472f11",
        "colab": {
          "base_uri": "https://localhost:8080/"
        }
      },
      "execution_count": null,
      "outputs": [
        {
          "output_type": "stream",
          "name": "stdout",
          "text": [
            "--2023-05-02 12:10:35--  https://raw.githubusercontent.com/propublica/compas-analysis/master/compas-scores-two-years.csv\n",
            "Resolving raw.githubusercontent.com (raw.githubusercontent.com)... 185.199.108.133, 185.199.109.133, 185.199.110.133, ...\n",
            "Connecting to raw.githubusercontent.com (raw.githubusercontent.com)|185.199.108.133|:443... connected.\n",
            "HTTP request sent, awaiting response... 416 Range Not Satisfiable\n",
            "\n",
            "    The file is already fully retrieved; nothing to do.\n",
            "\n"
          ]
        }
      ]
    },
    {
      "cell_type": "markdown",
      "source": [
        "Now let's take a look at the data:"
      ],
      "metadata": {
        "id": "NzpnkDQKxu6o"
      }
    },
    {
      "cell_type": "code",
      "source": [
        "compas_data"
      ],
      "metadata": {
        "id": "eaR5uGDuxu6o",
        "outputId": "88602d52-026f-4f66-9142-09543441ec13",
        "execution": {
          "iopub.status.busy": "2023-04-30T18:11:20.823086Z",
          "iopub.execute_input": "2023-04-30T18:11:20.823680Z",
          "iopub.status.idle": "2023-04-30T18:11:20.861324Z",
          "shell.execute_reply.started": "2023-04-30T18:11:20.823624Z",
          "shell.execute_reply": "2023-04-30T18:11:20.860196Z"
        },
        "trusted": true,
        "colab": {
          "base_uri": "https://localhost:8080/"
        }
      },
      "execution_count": null,
      "outputs": [
        {
          "output_type": "execute_result",
          "data": {
            "text/plain": [
              "               instance weights features                                       \\\n",
              "                                         protected attribute                    \n",
              "                                     sex                race age_cat=25 to 45   \n",
              "instance names                                                                  \n",
              "3                           1.0      0.0                 0.0              1.0   \n",
              "4                           1.0      0.0                 0.0              0.0   \n",
              "8                           1.0      0.0                 1.0              1.0   \n",
              "10                          1.0      1.0                 1.0              1.0   \n",
              "14                          1.0      0.0                 1.0              1.0   \n",
              "...                         ...      ...                 ...              ...   \n",
              "10994                       1.0      0.0                 0.0              1.0   \n",
              "10995                       1.0      0.0                 0.0              0.0   \n",
              "10996                       1.0      0.0                 0.0              0.0   \n",
              "10997                       1.0      0.0                 0.0              0.0   \n",
              "11000                       1.0      1.0                 0.0              1.0   \n",
              "\n",
              "                                                                            \\\n",
              "                                                                             \n",
              "               age_cat=Greater than 45 age_cat=Less than 25 priors_count=0   \n",
              "instance names                                                               \n",
              "3                                  0.0                  0.0            1.0   \n",
              "4                                  0.0                  1.0            0.0   \n",
              "8                                  0.0                  0.0            0.0   \n",
              "10                                 0.0                  0.0            1.0   \n",
              "14                                 0.0                  0.0            1.0   \n",
              "...                                ...                  ...            ...   \n",
              "10994                              0.0                  0.0            1.0   \n",
              "10995                              0.0                  1.0            1.0   \n",
              "10996                              0.0                  1.0            1.0   \n",
              "10997                              0.0                  1.0            1.0   \n",
              "11000                              0.0                  0.0            0.0   \n",
              "\n",
              "                                                                               \\\n",
              "                                                                                \n",
              "               priors_count=1 to 3 priors_count=More than 3 c_charge_degree=F   \n",
              "instance names                                                                  \n",
              "3                              0.0                      0.0               1.0   \n",
              "4                              0.0                      1.0               1.0   \n",
              "8                              0.0                      1.0               1.0   \n",
              "10                             0.0                      0.0               0.0   \n",
              "14                             0.0                      0.0               1.0   \n",
              "...                            ...                      ...               ...   \n",
              "10994                          0.0                      0.0               0.0   \n",
              "10995                          0.0                      0.0               1.0   \n",
              "10996                          0.0                      0.0               1.0   \n",
              "10997                          0.0                      0.0               1.0   \n",
              "11000                          1.0                      0.0               0.0   \n",
              "\n",
              "                                 labels  \n",
              "                                         \n",
              "               c_charge_degree=M         \n",
              "instance names                           \n",
              "3                            0.0    1.0  \n",
              "4                            0.0    1.0  \n",
              "8                            0.0    1.0  \n",
              "10                           1.0    0.0  \n",
              "14                           0.0    0.0  \n",
              "...                          ...    ...  \n",
              "10994                        1.0    1.0  \n",
              "10995                        0.0    0.0  \n",
              "10996                        0.0    0.0  \n",
              "10997                        0.0    0.0  \n",
              "11000                        1.0    0.0  \n",
              "\n",
              "[5278 rows x 12 columns]"
            ]
          },
          "metadata": {},
          "execution_count": 33
        }
      ]
    },
    {
      "cell_type": "markdown",
      "source": [
        "**Creating a train and test split**\n",
        "\n",
        "We'll create a train (80%) and test split (20%). \n",
        "\n",
        "Note: *Usually when carrying out machine learning experiments,\n",
        "we also need a dev set for developing and selecting our models (incl. tuning of hyper-parameters).\n",
        "However, in this assignment, the goal is not to optimize \n",
        "the performance of models so we'll only use a train and test split.*\n",
        "\n",
        "Note: *due to random division of train/test sets, the actual output in your runs may slightly differ with statistics showing in the rest of this notebook.*"
      ],
      "metadata": {
        "id": "O2_Rgb9Dxu6o"
      }
    },
    {
      "cell_type": "code",
      "source": [
        "train_data, test_data = compas_data.split([0.8], shuffle=True)"
      ],
      "metadata": {
        "id": "tEiYeOYbxu6o",
        "execution": {
          "iopub.status.busy": "2023-04-30T20:14:54.804550Z",
          "iopub.execute_input": "2023-04-30T20:14:54.805050Z",
          "iopub.status.idle": "2023-04-30T20:14:54.819136Z",
          "shell.execute_reply.started": "2023-04-30T20:14:54.805007Z",
          "shell.execute_reply": "2023-04-30T20:14:54.817895Z"
        },
        "trusted": true
      },
      "execution_count": null,
      "outputs": []
    },
    {
      "cell_type": "markdown",
      "source": [
        "We would also like to know what outcome is favorable in our dataset (because no Recidivism is preferable, it is ```two_year_recid=0``` in our case)."
      ],
      "metadata": {
        "id": "3tf8-vUkPPem"
      }
    },
    {
      "cell_type": "code",
      "source": [
        "fav_idx = int(train_data.favorable_label)\n",
        "print(fav_idx)"
      ],
      "metadata": {
        "execution": {
          "iopub.status.busy": "2023-04-30T18:15:28.017194Z",
          "iopub.execute_input": "2023-04-30T18:15:28.017649Z",
          "iopub.status.idle": "2023-04-30T18:15:28.023921Z",
          "shell.execute_reply.started": "2023-04-30T18:15:28.017612Z",
          "shell.execute_reply": "2023-04-30T18:15:28.022649Z"
        },
        "trusted": true,
        "id": "2CHG-dW3PPen",
        "outputId": "d47efc96-49fa-4d82-9d30-d323e72553f9",
        "colab": {
          "base_uri": "https://localhost:8080/"
        }
      },
      "execution_count": null,
      "outputs": [
        {
          "output_type": "stream",
          "name": "stdout",
          "text": [
            "0\n"
          ]
        }
      ]
    },
    {
      "cell_type": "markdown",
      "source": [
        "In this assignment, we'll focus on protected attribute: race.\n",
        "This is coded as a binary variable with \"Caucasian\" coded as 1 and \"African-American\" coded as 0."
      ],
      "metadata": {
        "id": "pPtJzDqCxu6o"
      }
    },
    {
      "cell_type": "code",
      "source": [
        "priv_group   = [{'race': 1}]  # Caucasian\n",
        "unpriv_group = [{'race': 0}]  # African-American"
      ],
      "metadata": {
        "id": "SjT3Zw2hxu6p",
        "execution": {
          "iopub.status.busy": "2023-04-30T18:26:41.346688Z",
          "iopub.execute_input": "2023-04-30T18:26:41.347927Z",
          "iopub.status.idle": "2023-04-30T18:26:41.353234Z",
          "shell.execute_reply.started": "2023-04-30T18:26:41.347875Z",
          "shell.execute_reply": "2023-04-30T18:26:41.351855Z"
        },
        "trusted": true
      },
      "execution_count": null,
      "outputs": []
    },
    {
      "cell_type": "markdown",
      "source": [
        "Now let's look at some statistics:"
      ],
      "metadata": {
        "id": "Jr90y1LDxu6p"
      }
    },
    {
      "cell_type": "code",
      "source": [
        "print(\"Training set shape: %s, %s\" % train_data.features.shape)\n",
        "print(\"Favorable (not recid) and unfavorable (recid) labels: %s; %s\" % (train_data.favorable_label, train_data.unfavorable_label))\n",
        "print(\"Protected attribute names: %s\" % train_data.protected_attribute_names)\n",
        "# labels of privileged (1) and unprovileged groups (0)\n",
        "print(\"Privileged (Caucasian) and unprivileged (African-American) protected attribute values: %s, %s\" % (train_data.privileged_protected_attributes, \n",
        "      train_data.unprivileged_protected_attributes))\n",
        "print(\"Feature names: %s\" % train_data.feature_names)"
      ],
      "metadata": {
        "colab": {
          "base_uri": "https://localhost:8080/"
        },
        "id": "iv6GMiiCxu6p",
        "outputId": "a94802bb-95b5-40fd-c5bd-61bfec216ad7",
        "execution": {
          "iopub.status.busy": "2023-04-30T18:26:47.822685Z",
          "iopub.execute_input": "2023-04-30T18:26:47.823817Z",
          "iopub.status.idle": "2023-04-30T18:26:47.832128Z",
          "shell.execute_reply.started": "2023-04-30T18:26:47.823757Z",
          "shell.execute_reply": "2023-04-30T18:26:47.830769Z"
        },
        "trusted": true
      },
      "execution_count": null,
      "outputs": [
        {
          "name": "stdout",
          "text": "Training set shape: 4222, 10\nFavorable (not recid) and unfavorable (recid) labels: 0.0; 1.0\nProtected attribute names: ['race']\nPrivileged (Caucasian) and unprivileged (African-American) protected attribute values: [array([1.])], [array([0.])]\nFeature names: ['sex', 'race', 'age_cat=25 to 45', 'age_cat=Greater than 45', 'age_cat=Less than 25', 'priors_count=0', 'priors_count=1 to 3', 'priors_count=More than 3', 'c_charge_degree=F', 'c_charge_degree=M']\n",
          "output_type": "stream"
        }
      ]
    },
    {
      "cell_type": "markdown",
      "source": [
        "Now, let's take a look at the test data and compute the following difference:\n",
        "\n",
        "$$𝑃(𝑌=favorable|𝐷=unprivileged)−𝑃(𝑌=favorable|𝐷=privileged)$$\n"
      ],
      "metadata": {
        "id": "4jQ3JiHIxu6p"
      }
    },
    {
      "cell_type": "code",
      "source": [
        "metric_test_data = BinaryLabelDatasetMetric(test_data, \n",
        "                             unprivileged_groups = unpriv_group,\n",
        "                             privileged_groups   = priv_group)\n",
        "print(\"Mean difference (statistical parity difference) = %f\" % \n",
        "      metric_test_data.statistical_parity_difference())\n"
      ],
      "metadata": {
        "colab": {
          "base_uri": "https://localhost:8080/"
        },
        "id": "zm5QQc1Sxu6p",
        "outputId": "d69655e7-7022-425c-bc4b-b5b827ff75eb",
        "execution": {
          "iopub.status.busy": "2023-04-30T18:28:05.164157Z",
          "iopub.execute_input": "2023-04-30T18:28:05.165078Z",
          "iopub.status.idle": "2023-04-30T18:28:05.172787Z",
          "shell.execute_reply.started": "2023-04-30T18:28:05.165034Z",
          "shell.execute_reply": "2023-04-30T18:28:05.171305Z"
        },
        "trusted": true
      },
      "execution_count": null,
      "outputs": [
        {
          "output_type": "stream",
          "name": "stdout",
          "text": [
            "Mean difference (statistical parity difference) = -0.142490\n"
          ]
        }
      ]
    },
    {
      "cell_type": "markdown",
      "source": [
        "To be clear, because we're looking at the original label distribution this is the base rate difference between the two groups"
      ],
      "metadata": {
        "id": "BhnAjpxdxu6p"
      }
    },
    {
      "cell_type": "code",
      "source": [
        "metric_test_data.base_rate(False)  # Base rate of the unprivileged group"
      ],
      "metadata": {
        "colab": {
          "base_uri": "https://localhost:8080/"
        },
        "id": "sg3bfAz-xu6p",
        "outputId": "0c65e920-ab55-4feb-bc51-74774e7d6715",
        "execution": {
          "iopub.status.busy": "2023-04-30T18:44:25.721004Z",
          "iopub.execute_input": "2023-04-30T18:44:25.721888Z",
          "iopub.status.idle": "2023-04-30T18:44:25.729778Z",
          "shell.execute_reply.started": "2023-04-30T18:44:25.721841Z",
          "shell.execute_reply": "2023-04-30T18:44:25.728438Z"
        },
        "trusted": true
      },
      "execution_count": null,
      "outputs": [
        {
          "output_type": "execute_result",
          "data": {
            "text/plain": [
              "0.4517133956386293"
            ]
          },
          "metadata": {},
          "execution_count": 38
        }
      ]
    },
    {
      "cell_type": "code",
      "source": [
        "metric_test_data.base_rate(True)   # Base rate of the privileged group"
      ],
      "metadata": {
        "colab": {
          "base_uri": "https://localhost:8080/"
        },
        "id": "UTZ2MYSbxu6p",
        "outputId": "5680215b-5f75-45ff-f685-1d187790e85a",
        "execution": {
          "iopub.status.busy": "2023-04-30T18:44:36.334390Z",
          "iopub.execute_input": "2023-04-30T18:44:36.335527Z",
          "iopub.status.idle": "2023-04-30T18:44:36.342204Z",
          "shell.execute_reply.started": "2023-04-30T18:44:36.335483Z",
          "shell.execute_reply": "2023-04-30T18:44:36.340810Z"
        },
        "trusted": true
      },
      "execution_count": null,
      "outputs": [
        {
          "output_type": "execute_result",
          "data": {
            "text/plain": [
              "0.5942028985507246"
            ]
          },
          "metadata": {},
          "execution_count": 39
        }
      ]
    },
    {
      "cell_type": "markdown",
      "source": [
        "To explore the data, it can also help to convert it to a dataframe.\n",
        "Note that here the favorable label is no recidivism (two_year_recid=0), \n",
        "while the mean values are calculated according to two_year_recid=1.\n",
        "Therefore, we get the results as (1 - base rate)."
      ],
      "metadata": {
        "id": "0S8-RwIH9Qu3"
      }
    },
    {
      "cell_type": "code",
      "source": [
        "test_data.convert_to_dataframe()[0].groupby(['race'])['two_year_recid'].describe()"
      ],
      "metadata": {
        "id": "3MCGC1F99Qu3",
        "outputId": "6e0338b0-7530-4fb2-f798-bbe1c277764b",
        "execution": {
          "iopub.status.busy": "2023-04-30T18:44:51.855854Z",
          "iopub.execute_input": "2023-04-30T18:44:51.856741Z",
          "iopub.status.idle": "2023-04-30T18:44:51.892876Z",
          "shell.execute_reply.started": "2023-04-30T18:44:51.856700Z",
          "shell.execute_reply": "2023-04-30T18:44:51.891437Z"
        },
        "trusted": true,
        "colab": {
          "base_uri": "https://localhost:8080/",
          "height": 143
        }
      },
      "execution_count": null,
      "outputs": [
        {
          "output_type": "execute_result",
          "data": {
            "text/plain": [
              "      count      mean       std  min  25%  50%  75%  max\n",
              "race                                                    \n",
              "0.0   642.0  0.548287  0.498051  0.0  0.0  1.0  1.0  1.0\n",
              "1.0   414.0  0.405797  0.491640  0.0  0.0  0.0  1.0  1.0"
            ],
            "text/html": [
              "\n",
              "  <div id=\"df-19a9cbee-7802-452b-8c71-24ef90ec0086\">\n",
              "    <div class=\"colab-df-container\">\n",
              "      <div>\n",
              "<style scoped>\n",
              "    .dataframe tbody tr th:only-of-type {\n",
              "        vertical-align: middle;\n",
              "    }\n",
              "\n",
              "    .dataframe tbody tr th {\n",
              "        vertical-align: top;\n",
              "    }\n",
              "\n",
              "    .dataframe thead th {\n",
              "        text-align: right;\n",
              "    }\n",
              "</style>\n",
              "<table border=\"1\" class=\"dataframe\">\n",
              "  <thead>\n",
              "    <tr style=\"text-align: right;\">\n",
              "      <th></th>\n",
              "      <th>count</th>\n",
              "      <th>mean</th>\n",
              "      <th>std</th>\n",
              "      <th>min</th>\n",
              "      <th>25%</th>\n",
              "      <th>50%</th>\n",
              "      <th>75%</th>\n",
              "      <th>max</th>\n",
              "    </tr>\n",
              "    <tr>\n",
              "      <th>race</th>\n",
              "      <th></th>\n",
              "      <th></th>\n",
              "      <th></th>\n",
              "      <th></th>\n",
              "      <th></th>\n",
              "      <th></th>\n",
              "      <th></th>\n",
              "      <th></th>\n",
              "    </tr>\n",
              "  </thead>\n",
              "  <tbody>\n",
              "    <tr>\n",
              "      <th>0.0</th>\n",
              "      <td>642.0</td>\n",
              "      <td>0.548287</td>\n",
              "      <td>0.498051</td>\n",
              "      <td>0.0</td>\n",
              "      <td>0.0</td>\n",
              "      <td>1.0</td>\n",
              "      <td>1.0</td>\n",
              "      <td>1.0</td>\n",
              "    </tr>\n",
              "    <tr>\n",
              "      <th>1.0</th>\n",
              "      <td>414.0</td>\n",
              "      <td>0.405797</td>\n",
              "      <td>0.491640</td>\n",
              "      <td>0.0</td>\n",
              "      <td>0.0</td>\n",
              "      <td>0.0</td>\n",
              "      <td>1.0</td>\n",
              "      <td>1.0</td>\n",
              "    </tr>\n",
              "  </tbody>\n",
              "</table>\n",
              "</div>\n",
              "      <button class=\"colab-df-convert\" onclick=\"convertToInteractive('df-19a9cbee-7802-452b-8c71-24ef90ec0086')\"\n",
              "              title=\"Convert this dataframe to an interactive table.\"\n",
              "              style=\"display:none;\">\n",
              "        \n",
              "  <svg xmlns=\"http://www.w3.org/2000/svg\" height=\"24px\"viewBox=\"0 0 24 24\"\n",
              "       width=\"24px\">\n",
              "    <path d=\"M0 0h24v24H0V0z\" fill=\"none\"/>\n",
              "    <path d=\"M18.56 5.44l.94 2.06.94-2.06 2.06-.94-2.06-.94-.94-2.06-.94 2.06-2.06.94zm-11 1L8.5 8.5l.94-2.06 2.06-.94-2.06-.94L8.5 2.5l-.94 2.06-2.06.94zm10 10l.94 2.06.94-2.06 2.06-.94-2.06-.94-.94-2.06-.94 2.06-2.06.94z\"/><path d=\"M17.41 7.96l-1.37-1.37c-.4-.4-.92-.59-1.43-.59-.52 0-1.04.2-1.43.59L10.3 9.45l-7.72 7.72c-.78.78-.78 2.05 0 2.83L4 21.41c.39.39.9.59 1.41.59.51 0 1.02-.2 1.41-.59l7.78-7.78 2.81-2.81c.8-.78.8-2.07 0-2.86zM5.41 20L4 18.59l7.72-7.72 1.47 1.35L5.41 20z\"/>\n",
              "  </svg>\n",
              "      </button>\n",
              "      \n",
              "  <style>\n",
              "    .colab-df-container {\n",
              "      display:flex;\n",
              "      flex-wrap:wrap;\n",
              "      gap: 12px;\n",
              "    }\n",
              "\n",
              "    .colab-df-convert {\n",
              "      background-color: #E8F0FE;\n",
              "      border: none;\n",
              "      border-radius: 50%;\n",
              "      cursor: pointer;\n",
              "      display: none;\n",
              "      fill: #1967D2;\n",
              "      height: 32px;\n",
              "      padding: 0 0 0 0;\n",
              "      width: 32px;\n",
              "    }\n",
              "\n",
              "    .colab-df-convert:hover {\n",
              "      background-color: #E2EBFA;\n",
              "      box-shadow: 0px 1px 2px rgba(60, 64, 67, 0.3), 0px 1px 3px 1px rgba(60, 64, 67, 0.15);\n",
              "      fill: #174EA6;\n",
              "    }\n",
              "\n",
              "    [theme=dark] .colab-df-convert {\n",
              "      background-color: #3B4455;\n",
              "      fill: #D2E3FC;\n",
              "    }\n",
              "\n",
              "    [theme=dark] .colab-df-convert:hover {\n",
              "      background-color: #434B5C;\n",
              "      box-shadow: 0px 1px 3px 1px rgba(0, 0, 0, 0.15);\n",
              "      filter: drop-shadow(0px 1px 2px rgba(0, 0, 0, 0.3));\n",
              "      fill: #FFFFFF;\n",
              "    }\n",
              "  </style>\n",
              "\n",
              "      <script>\n",
              "        const buttonEl =\n",
              "          document.querySelector('#df-19a9cbee-7802-452b-8c71-24ef90ec0086 button.colab-df-convert');\n",
              "        buttonEl.style.display =\n",
              "          google.colab.kernel.accessAllowed ? 'block' : 'none';\n",
              "\n",
              "        async function convertToInteractive(key) {\n",
              "          const element = document.querySelector('#df-19a9cbee-7802-452b-8c71-24ef90ec0086');\n",
              "          const dataTable =\n",
              "            await google.colab.kernel.invokeFunction('convertToInteractive',\n",
              "                                                     [key], {});\n",
              "          if (!dataTable) return;\n",
              "\n",
              "          const docLinkHtml = 'Like what you see? Visit the ' +\n",
              "            '<a target=\"_blank\" href=https://colab.research.google.com/notebooks/data_table.ipynb>data table notebook</a>'\n",
              "            + ' to learn more about interactive tables.';\n",
              "          element.innerHTML = '';\n",
              "          dataTable['output_type'] = 'display_data';\n",
              "          await google.colab.output.renderOutput(dataTable, element);\n",
              "          const docLink = document.createElement('div');\n",
              "          docLink.innerHTML = docLinkHtml;\n",
              "          element.appendChild(docLink);\n",
              "        }\n",
              "      </script>\n",
              "    </div>\n",
              "  </div>\n",
              "  "
            ]
          },
          "metadata": {},
          "execution_count": 40
        }
      ]
    },
    {
      "cell_type": "markdown",
      "source": [
        "**Report**\n",
        "\n",
        "Report basic statistics in your report, such as the size of the training and test set.\n",
        "\n",
        "Now let's explore the *training* data further.\n",
        "In your report include a short analysis of the training data. Look at the base rates of the outcome variable (two year recidivism) for the combination of both race and sex categories. What do you see?"
      ],
      "metadata": {
        "id": "6AXjkhpdPPfS"
      }
    },
    {
      "cell_type": "markdown",
      "source": [
        "# Classifiers\n",
        "\n",
        "**Training classifiers**\n",
        "\n",
        "Now, train the following classifiers:\n",
        "\n",
        "1. A logistic regression classifier making use of all features \n",
        "2. A logistic regression classifier without the race feature\n",
        "3. A classifier after reweighting instances in the training set https://aif360.readthedocs.io/en/latest/modules/generated/aif360.algorithms.preprocessing.Reweighing.html.\n",
        "    * Report the weights that are used for reweighing and a short interpretation/discussion.\n",
        "    * Hint: Think about when you should reweight the data: during initialization or during training (i.e. fit)? Read the documentation of the Logistic regression model in Scikit-learn carefully (if you use it). \n",
        "4. A classifier after post-processing \n",
        "https://aif360.readthedocs.io/en/latest/modules/generated/aif360.algorithms.postprocessing.EqOddsPostprocessing.html#aif360.algorithms.postprocessing.EqOddsPostprocessing \n",
        "\n",
        "For training the classifier we recommend using scikit-learn (https://scikit-learn.org/stable/).\n",
        "AIF360 contains a sklearn wrapper, however that one is in development and not complete.\n",
        "We recommend using the base AIF360 library, and not their sklearn wrapper.\n",
        "\n",
        "**Report**\n",
        "\n",
        "For each of these classifiers, report the following:\n",
        "* Overall precision, recall, F1 and accuracy.\n",
        "* The statistical parity difference. Does this classifier satisfy statistical parity? How does this difference compare to the original dataset?\n",
        "* Difference of true positive rates between the two groups. Does the classifier satisfy the equal opportunity criterion? \n",
        "\n"
      ],
      "metadata": {
        "id": "u-McnZqSxu6q"
      }
    },
    {
      "cell_type": "code",
      "source": [
        "# FIRST CLASSIFIER: A logistic regression classifier making use of all features\n",
        "import numpy as np\n",
        "from sklearn.model_selection import train_test_split\n",
        "from sklearn.linear_model import LogisticRegression\n",
        "from sklearn.metrics import classification_report\n",
        "model = LogisticRegression(penalty='l2', fit_intercept=True, solver='saga', multi_class='auto', random_state=True, verbose=1)\n",
        "\n",
        "# Training Model 1\n",
        "h_model_1 = model.fit(train_data.features, np.reshape(train_data.labels, (-1,)))\n",
        "\n",
        "# Predicted Labels\n",
        "y_pred = model.predict(test_data.features)\n",
        "\n",
        "# True Labels\n",
        "y_true = np.reshape(test_data.labels, (-1, ))\n",
        "\n",
        "#Classification Report \n",
        "print(classification_report(y_pred, y_true))"
      ],
      "metadata": {
        "execution": {
          "iopub.status.busy": "2023-04-30T19:53:35.708852Z",
          "iopub.execute_input": "2023-04-30T19:53:35.709328Z",
          "iopub.status.idle": "2023-04-30T19:53:35.760732Z",
          "shell.execute_reply.started": "2023-04-30T19:53:35.709286Z",
          "shell.execute_reply": "2023-04-30T19:53:35.759055Z"
        },
        "trusted": true,
        "id": "EUJMJYadPPfW",
        "outputId": "7ce1141e-e447-4550-99fe-0772220d47d5",
        "colab": {
          "base_uri": "https://localhost:8080/"
        }
      },
      "execution_count": null,
      "outputs": [
        {
          "output_type": "stream",
          "name": "stdout",
          "text": [
            "convergence after 23 epochs took 0 seconds\n",
            "              precision    recall  f1-score   support\n",
            "\n",
            "         0.0       0.71      0.66      0.68       580\n",
            "         1.0       0.62      0.67      0.64       476\n",
            "\n",
            "    accuracy                           0.66      1056\n",
            "   macro avg       0.66      0.66      0.66      1056\n",
            "weighted avg       0.67      0.66      0.66      1056\n",
            "\n"
          ]
        },
        {
          "output_type": "stream",
          "name": "stderr",
          "text": [
            "[Parallel(n_jobs=1)]: Using backend SequentialBackend with 1 concurrent workers.\n",
            "[Parallel(n_jobs=1)]: Done   1 out of   1 | elapsed:    0.0s finished\n"
          ]
        }
      ]
    },
    {
      "cell_type": "code",
      "source": [
        "# SECOND CLASSIFIER: A logistic regression classifier without the race feature\n",
        "\n",
        "# Copy the original dataset (features_to_drop inside CompasDataset did not work)\n",
        "compas_without_race = (compas_data.convert_to_dataframe()[0]).copy()\n",
        "# Drop race\n",
        "compas_without_race.drop('race', axis=1, inplace = True)\n",
        "\n",
        "train_set, test_set = train_test_split(compas_without_race, test_size=0.2, shuffle=True)\n",
        "\n",
        "y_train = np.reshape(train_set['two_year_recid'].values, (-1, ))\n",
        "X_train = train_set.drop('two_year_recid', axis=1)\n",
        "\n",
        "y_test = np.reshape(test_set['two_year_recid'].values, (-1, ))\n",
        "X_test = test_set.drop('two_year_recid', axis=1)\n",
        "\n",
        "# Since the model is the same we omit the (re)definition of the model\n",
        "h_model_2 = model.fit(X_train, y_train)\n",
        "\n",
        "# Predicted Labels\n",
        "y_pred = model.predict(X_test)\n",
        "\n",
        "# True Labels\n",
        "y_true = np.reshape(y_test, (-1, ))\n",
        "\n",
        "#Classification Report \n",
        "print(classification_report(y_pred, y_true))"
      ],
      "metadata": {
        "execution": {
          "iopub.status.busy": "2023-04-30T19:21:30.869768Z",
          "iopub.execute_input": "2023-04-30T19:21:30.870227Z",
          "iopub.status.idle": "2023-04-30T19:21:30.878012Z",
          "shell.execute_reply.started": "2023-04-30T19:21:30.870186Z",
          "shell.execute_reply": "2023-04-30T19:21:30.876637Z"
        },
        "trusted": true,
        "id": "nw2tb39DPPfi",
        "outputId": "ab306118-9334-4437-f676-06935d4211bf",
        "colab": {
          "base_uri": "https://localhost:8080/"
        }
      },
      "execution_count": null,
      "outputs": [
        {
          "output_type": "stream",
          "name": "stdout",
          "text": [
            "convergence after 25 epochs took 0 seconds\n",
            "              precision    recall  f1-score   support\n",
            "\n",
            "         0.0       0.74      0.68      0.71       631\n",
            "         1.0       0.58      0.65      0.61       425\n",
            "\n",
            "    accuracy                           0.67      1056\n",
            "   macro avg       0.66      0.67      0.66      1056\n",
            "weighted avg       0.68      0.67      0.67      1056\n",
            "\n"
          ]
        },
        {
          "output_type": "stream",
          "name": "stderr",
          "text": [
            "[Parallel(n_jobs=1)]: Using backend SequentialBackend with 1 concurrent workers.\n",
            "[Parallel(n_jobs=1)]: Done   1 out of   1 | elapsed:    0.1s finished\n"
          ]
        }
      ]
    },
    {
      "cell_type": "code",
      "source": [
        "# THIRD CLASSIFIER: A classifier after reweighting instances in the training set\n",
        "from aif360.algorithms.preprocessing import Reweighing\n",
        "\n",
        "reweigh = Reweighing()\n",
        "\n",
        "weights = reweigh.fit(compas_data)"
      ],
      "metadata": {
        "id": "B5l6FWOWPPfl",
        "outputId": "7086b647-f1c8-4e6e-c70f-377213e6a940",
        "colab": {
          "base_uri": "https://localhost:8080/",
          "height": 235
        }
      },
      "execution_count": null,
      "outputs": [
        {
          "output_type": "error",
          "ename": "TypeError",
          "evalue": "ignored",
          "traceback": [
            "\u001b[0;31m---------------------------------------------------------------------------\u001b[0m",
            "\u001b[0;31mTypeError\u001b[0m                                 Traceback (most recent call last)",
            "\u001b[0;32m<ipython-input-112-92f897acebee>\u001b[0m in \u001b[0;36m<cell line: 4>\u001b[0;34m()\u001b[0m\n\u001b[1;32m      2\u001b[0m \u001b[0;32mfrom\u001b[0m \u001b[0maif360\u001b[0m\u001b[0;34m.\u001b[0m\u001b[0malgorithms\u001b[0m\u001b[0;34m.\u001b[0m\u001b[0mpreprocessing\u001b[0m \u001b[0;32mimport\u001b[0m \u001b[0mReweighing\u001b[0m\u001b[0;34m\u001b[0m\u001b[0;34m\u001b[0m\u001b[0m\n\u001b[1;32m      3\u001b[0m \u001b[0;34m\u001b[0m\u001b[0m\n\u001b[0;32m----> 4\u001b[0;31m \u001b[0mreweigh\u001b[0m \u001b[0;34m=\u001b[0m \u001b[0mReweighing\u001b[0m\u001b[0;34m(\u001b[0m\u001b[0;34m)\u001b[0m\u001b[0;34m\u001b[0m\u001b[0;34m\u001b[0m\u001b[0m\n\u001b[0m\u001b[1;32m      5\u001b[0m \u001b[0;34m\u001b[0m\u001b[0m\n\u001b[1;32m      6\u001b[0m \u001b[0mweights\u001b[0m \u001b[0;34m=\u001b[0m \u001b[0mreweigh\u001b[0m\u001b[0;34m.\u001b[0m\u001b[0mfit\u001b[0m\u001b[0;34m(\u001b[0m\u001b[0mcompas_data\u001b[0m\u001b[0;34m)\u001b[0m\u001b[0;34m\u001b[0m\u001b[0;34m\u001b[0m\u001b[0m\n",
            "\u001b[0;31mTypeError\u001b[0m: Reweighing.__init__() missing 2 required positional arguments: 'unprivileged_groups' and 'privileged_groups'"
          ]
        }
      ]
    },
    {
      "cell_type": "code",
      "source": [
        "# FOURTH CLASSIFIER: A classifier after post-processing"
      ],
      "metadata": {
        "id": "sHwp6HndPPfm"
      },
      "execution_count": null,
      "outputs": []
    },
    {
      "cell_type": "markdown",
      "source": [
        "# Discussion\n",
        "\n",
        "**Report**\n",
        "* Shortly discuss your results. For example, how do the different classifiers compare against each other? \n",
        "* Also include a short ethical discussion (1 or 2 paragraphs) reflecting on these two aspects: 1) The use of a ML system to try to predict recidivism; 2) The public release of a dataset like this.\n"
      ],
      "metadata": {
        "id": "IOxdF1PJxu6q"
      }
    }
  ]
}