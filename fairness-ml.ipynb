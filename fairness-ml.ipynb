{
 "cells": [
  {
   "cell_type": "markdown",
   "metadata": {
    "id": "JVBQ-6Vmxu6j"
   },
   "source": [
    "# Submission instructions \n",
    "\n",
    "All code that you write should be in this notebook.\n",
    "Submit:\n",
    "\n",
    "* This notebook with your code added. Make sure to add enough documentation.\n",
    "* A short report, max 2 pages including any figures and/or tables (it is likely that you won't need the full 2 pages). Use [this template](https://www.overleaf.com/read/mvskntycrckw). \n",
    "\n",
    "For questions, make use of the \"Lab\" session (see schedule).\n",
    "Questions can also be posted to the MS teams channel called \"Lab\". \n"
   ]
  },
  {
   "cell_type": "markdown",
   "metadata": {
    "id": "jQx2YpXIxu6m"
   },
   "source": [
    "# Installing AIF360"
   ]
  },
  {
   "cell_type": "markdown",
   "metadata": {
    "id": "4-pc9YhRxu6n"
   },
   "source": [
    "In this assignment, we're going to use the AIF360 library.\n",
    "For documentation, take a look at:\n",
    "\n",
    "    * https://aif360.mybluemix.net/\n",
    "    * https://aif360.readthedocs.io/en/latest/ (API documentation)\n",
    "    * https://github.com/Trusted-AI/AIF360 Installation instructions\n",
    "\n",
    "We recommend using a dedicated Python environment for this assignment, for example\n",
    "by using Conda (https://docs.conda.io/en/latest/).\n",
    "You could also use Google Colab (https://colab.research.google.com/).\n",
    "\n",
    "When installing AIF360, you only need to install the stable, basic version (e.g., pip install aif360)\n",
    "You don't need to install the additional optional dependencies.\n",
    "\n",
    "The library itself provides some examples in the GitHub repository, see:\n",
    "https://github.com/Trusted-AI/AIF360/tree/master/examples.\n",
    "\n",
    "**Notes**\n",
    "* The lines below starting with ! can be used in Google Colab. You can also comment them out and manually install these libraries in your console\n",
    "* The first time you're running the import statements, you may get a warning \"No module named tensorflow\".\n",
    "  This can be ignored--we don't need it for this assignment. Just run the code block again, and it should disappear"
   ]
  },
  {
   "cell_type": "code",
   "execution_count": 1,
   "metadata": {
    "execution": {
     "iopub.execute_input": "2023-04-30T17:55:13.284401Z",
     "iopub.status.busy": "2023-04-30T17:55:13.283990Z",
     "iopub.status.idle": "2023-04-30T17:55:48.134754Z",
     "shell.execute_reply": "2023-04-30T17:55:48.133632Z",
     "shell.execute_reply.started": "2023-04-30T17:55:13.284367Z"
    },
    "id": "GYqgmESHxu6n"
   },
   "outputs": [
    {
     "name": "stderr",
     "output_type": "stream",
     "text": [
      "WARNING:root:No module named 'tempeh': LawSchoolGPADataset will be unavailable. To install, run:\n",
      "pip install 'aif360[LawSchoolGPA]'\n",
      "WARNING:root:No module named 'tensorflow': AdversarialDebiasing will be unavailable. To install, run:\n",
      "pip install 'aif360[AdversarialDebiasing]'\n",
      "WARNING:root:No module named 'tensorflow': AdversarialDebiasing will be unavailable. To install, run:\n",
      "pip install 'aif360[AdversarialDebiasing]'\n"
     ]
    }
   ],
   "source": [
    "# !pip install aif360\n",
    "# !pip install fairlearn\n",
    "\n",
    "from aif360.algorithms.preprocessing.optim_preproc_helpers.data_preproc_functions\\\n",
    "        import load_preproc_data_compas\n",
    "\n",
    "from aif360.metrics import BinaryLabelDatasetMetric"
   ]
  },
  {
   "cell_type": "markdown",
   "metadata": {
    "id": "XMAamjIhxu6n"
   },
   "source": [
    "# Exploring the data"
   ]
  },
  {
   "cell_type": "markdown",
   "metadata": {
    "_kg_hide-input": true,
    "_kg_hide-output": true,
    "id": "WULE5A7jxu6n"
   },
   "source": [
    "**COMPAS dataset**\n",
    "\n",
    "In this assignment we're going to use the COMPAS dataset.\n",
    "\n",
    "If you haven't done so already, take a look at this article: https://www.propublica.org/article/machine-bias-risk-assessments-in-criminal-sentencing.\n",
    "For background on the dataset, see https://www.propublica.org/article/how-we-analyzed-the-compas-recidivism-algorithm.\n",
    "\n",
    "**Reading in the COMPAS dataset**\n",
    "\n",
    "The AIF360 library has already built in code to read in this dataset.\n",
    "However, you'll first need to manually download the COMPAS dataset \n",
    "and put it into a specified directory. \n",
    "See: https://github.com/Trusted-AI/AIF360/blob/master/aif360/data/raw/compas/README.md.\n",
    "If you try to load in the dataset for the first time, the library will give you instructions on the steps to download the data.\n",
    "\n",
    "The protected attributes in this dataset are 'sex' and 'race'. \n",
    "For this assignment, we'll only focus on race.\n",
    "\n",
    "The label codes recidivism, which they defined as a new arrest within 2 years. \n",
    "Note that in this dataset, the label is coded with 1 being the favorable label."
   ]
  },
  {
   "cell_type": "code",
   "execution_count": 2,
   "metadata": {
    "execution": {
     "iopub.execute_input": "2023-04-30T18:11:13.200767Z",
     "iopub.status.busy": "2023-04-30T18:11:13.199623Z",
     "iopub.status.idle": "2023-04-30T18:11:14.507362Z",
     "shell.execute_reply": "2023-04-30T18:11:14.505841Z",
     "shell.execute_reply.started": "2023-04-30T18:11:13.200721Z"
    },
    "id": "ntZORDbtxu6n"
   },
   "outputs": [],
   "source": [
    "# # !wget -c https://raw.githubusercontent.com/propublica/compas-analysis/master/compas-scores-two-years.csv\n",
    "# !mv compas-scores-two-years.csv /opt/conda/lib/python3.7/site-packages/aif360/data/raw/compas\n",
    "# # # For Google Colab, the DATA_PATH is /usr/local/lib/python3.7/dist-packages/aif360/data/raw/compas\n",
    "\n",
    "from aif360.datasets import CompasDataset\n",
    "\n",
    "compas_data = load_preproc_data_compas(protected_attributes=['race'])"
   ]
  },
  {
   "cell_type": "markdown",
   "metadata": {
    "id": "NzpnkDQKxu6o"
   },
   "source": [
    "Now let's take a look at the data:"
   ]
  },
  {
   "cell_type": "code",
   "execution_count": 3,
   "metadata": {
    "execution": {
     "iopub.execute_input": "2023-04-30T18:11:20.823680Z",
     "iopub.status.busy": "2023-04-30T18:11:20.823086Z",
     "iopub.status.idle": "2023-04-30T18:11:20.861324Z",
     "shell.execute_reply": "2023-04-30T18:11:20.860196Z",
     "shell.execute_reply.started": "2023-04-30T18:11:20.823624Z"
    },
    "id": "eaR5uGDuxu6o",
    "outputId": "58479c0b-bdeb-46cb-a9f5-eb2f7806002e"
   },
   "outputs": [
    {
     "data": {
      "text/plain": [
       "               instance weights features                                        \n",
       "                                         protected attribute                    \n",
       "                                     sex                race age_cat=25 to 45   \n",
       "instance names                                                                  \n",
       "3                           1.0      0.0                 0.0              1.0  \\\n",
       "4                           1.0      0.0                 0.0              0.0   \n",
       "8                           1.0      0.0                 1.0              1.0   \n",
       "10                          1.0      1.0                 1.0              1.0   \n",
       "14                          1.0      0.0                 1.0              1.0   \n",
       "...                         ...      ...                 ...              ...   \n",
       "10994                       1.0      0.0                 0.0              1.0   \n",
       "10995                       1.0      0.0                 0.0              0.0   \n",
       "10996                       1.0      0.0                 0.0              0.0   \n",
       "10997                       1.0      0.0                 0.0              0.0   \n",
       "11000                       1.0      1.0                 0.0              1.0   \n",
       "\n",
       "                                                                             \n",
       "                                                                             \n",
       "               age_cat=Greater than 45 age_cat=Less than 25 priors_count=0   \n",
       "instance names                                                               \n",
       "3                                  0.0                  0.0            1.0  \\\n",
       "4                                  0.0                  1.0            0.0   \n",
       "8                                  0.0                  0.0            0.0   \n",
       "10                                 0.0                  0.0            1.0   \n",
       "14                                 0.0                  0.0            1.0   \n",
       "...                                ...                  ...            ...   \n",
       "10994                              0.0                  0.0            1.0   \n",
       "10995                              0.0                  1.0            1.0   \n",
       "10996                              0.0                  1.0            1.0   \n",
       "10997                              0.0                  1.0            1.0   \n",
       "11000                              0.0                  0.0            0.0   \n",
       "\n",
       "                                                                                \n",
       "                                                                                \n",
       "               priors_count=1 to 3 priors_count=More than 3 c_charge_degree=F   \n",
       "instance names                                                                  \n",
       "3                              0.0                      0.0               1.0  \\\n",
       "4                              0.0                      1.0               1.0   \n",
       "8                              0.0                      1.0               1.0   \n",
       "10                             0.0                      0.0               0.0   \n",
       "14                             0.0                      0.0               1.0   \n",
       "...                            ...                      ...               ...   \n",
       "10994                          0.0                      0.0               0.0   \n",
       "10995                          0.0                      0.0               1.0   \n",
       "10996                          0.0                      0.0               1.0   \n",
       "10997                          0.0                      0.0               1.0   \n",
       "11000                          1.0                      0.0               0.0   \n",
       "\n",
       "                                 labels  \n",
       "                                         \n",
       "               c_charge_degree=M         \n",
       "instance names                           \n",
       "3                            0.0    1.0  \n",
       "4                            0.0    1.0  \n",
       "8                            0.0    1.0  \n",
       "10                           1.0    0.0  \n",
       "14                           0.0    0.0  \n",
       "...                          ...    ...  \n",
       "10994                        1.0    1.0  \n",
       "10995                        0.0    0.0  \n",
       "10996                        0.0    0.0  \n",
       "10997                        0.0    0.0  \n",
       "11000                        1.0    0.0  \n",
       "\n",
       "[5278 rows x 12 columns]"
      ]
     },
     "execution_count": 3,
     "metadata": {},
     "output_type": "execute_result"
    }
   ],
   "source": [
    "compas_data\n",
    "\n"
   ]
  },
  {
   "cell_type": "markdown",
   "metadata": {
    "id": "O2_Rgb9Dxu6o"
   },
   "source": [
    "**Creating a train and test split**\n",
    "\n",
    "We'll create a train (80%) and test split (20%). \n",
    "\n",
    "Note: *Usually when carrying out machine learning experiments,\n",
    "we also need a dev set for developing and selecting our models (incl. tuning of hyper-parameters).\n",
    "However, in this assignment, the goal is not to optimize \n",
    "the performance of models so we'll only use a train and test split.*\n",
    "\n",
    "Note: *due to random division of train/test sets, the actual output in your runs may slightly differ with statistics showing in the rest of this notebook.*"
   ]
  },
  {
   "cell_type": "code",
   "execution_count": 4,
   "metadata": {
    "execution": {
     "iopub.execute_input": "2023-04-30T20:14:54.805050Z",
     "iopub.status.busy": "2023-04-30T20:14:54.804550Z",
     "iopub.status.idle": "2023-04-30T20:14:54.819136Z",
     "shell.execute_reply": "2023-04-30T20:14:54.817895Z",
     "shell.execute_reply.started": "2023-04-30T20:14:54.805007Z"
    },
    "id": "tEiYeOYbxu6o"
   },
   "outputs": [],
   "source": [
    "train_data, test_data = compas_data.split([0.8], shuffle=True)"
   ]
  },
  {
   "cell_type": "markdown",
   "metadata": {},
   "source": [
    "We would also like to know what outcome is favorable in our dataset (because no Recidivism is preferable, it is ```two_year_recid=0``` in our case)."
   ]
  },
  {
   "cell_type": "code",
   "execution_count": 5,
   "metadata": {
    "execution": {
     "iopub.execute_input": "2023-04-30T18:15:28.017649Z",
     "iopub.status.busy": "2023-04-30T18:15:28.017194Z",
     "iopub.status.idle": "2023-04-30T18:15:28.023921Z",
     "shell.execute_reply": "2023-04-30T18:15:28.022649Z",
     "shell.execute_reply.started": "2023-04-30T18:15:28.017612Z"
    }
   },
   "outputs": [
    {
     "name": "stdout",
     "output_type": "stream",
     "text": [
      "0\n"
     ]
    }
   ],
   "source": [
    "fav_idx = int(train_data.favorable_label)\n",
    "print(fav_idx)"
   ]
  },
  {
   "cell_type": "markdown",
   "metadata": {
    "id": "pPtJzDqCxu6o"
   },
   "source": [
    "In this assignment, we'll focus on protected attribute: race.\n",
    "This is coded as a binary variable with \"Caucasian\" coded as 1 and \"African-American\" coded as 0."
   ]
  },
  {
   "cell_type": "code",
   "execution_count": 6,
   "metadata": {
    "execution": {
     "iopub.execute_input": "2023-04-30T18:26:41.347927Z",
     "iopub.status.busy": "2023-04-30T18:26:41.346688Z",
     "iopub.status.idle": "2023-04-30T18:26:41.353234Z",
     "shell.execute_reply": "2023-04-30T18:26:41.351855Z",
     "shell.execute_reply.started": "2023-04-30T18:26:41.347875Z"
    },
    "id": "SjT3Zw2hxu6p"
   },
   "outputs": [],
   "source": [
    "priv_group   = [{'race': 1}]  # Caucasian\n",
    "unpriv_group = [{'race': 0}]  # African-American"
   ]
  },
  {
   "cell_type": "markdown",
   "metadata": {
    "id": "Jr90y1LDxu6p"
   },
   "source": [
    "Now let's look at some statistics:"
   ]
  },
  {
   "cell_type": "code",
   "execution_count": 7,
   "metadata": {
    "colab": {
     "base_uri": "https://localhost:8080/"
    },
    "execution": {
     "iopub.execute_input": "2023-04-30T18:26:47.823817Z",
     "iopub.status.busy": "2023-04-30T18:26:47.822685Z",
     "iopub.status.idle": "2023-04-30T18:26:47.832128Z",
     "shell.execute_reply": "2023-04-30T18:26:47.830769Z",
     "shell.execute_reply.started": "2023-04-30T18:26:47.823757Z"
    },
    "id": "iv6GMiiCxu6p",
    "outputId": "a94802bb-95b5-40fd-c5bd-61bfec216ad7"
   },
   "outputs": [
    {
     "name": "stdout",
     "output_type": "stream",
     "text": [
      "Training set shape: 4222, 10\n",
      "Favorable (not recid) and unfavorable (recid) labels: 0.0; 1.0\n",
      "Protected attribute names: ['race']\n",
      "Privileged (Caucasian) and unprivileged (African-American) protected attribute values: [array([1.])], [array([0.])]\n",
      "Feature names: ['sex', 'race', 'age_cat=25 to 45', 'age_cat=Greater than 45', 'age_cat=Less than 25', 'priors_count=0', 'priors_count=1 to 3', 'priors_count=More than 3', 'c_charge_degree=F', 'c_charge_degree=M']\n"
     ]
    }
   ],
   "source": [
    "print(\"Training set shape: %s, %s\" % train_data.features.shape)\n",
    "print(\"Favorable (not recid) and unfavorable (recid) labels: %s; %s\" % (train_data.favorable_label, train_data.unfavorable_label))\n",
    "print(\"Protected attribute names: %s\" % train_data.protected_attribute_names)\n",
    "# labels of privileged (1) and unprovileged groups (0)\n",
    "print(\"Privileged (Caucasian) and unprivileged (African-American) protected attribute values: %s, %s\" % (train_data.privileged_protected_attributes, \n",
    "      train_data.unprivileged_protected_attributes))\n",
    "print(\"Feature names: %s\" % train_data.feature_names)"
   ]
  },
  {
   "cell_type": "markdown",
   "metadata": {
    "id": "4jQ3JiHIxu6p"
   },
   "source": [
    "Now, let's take a look at the test data and compute the following difference:\n",
    "\n",
    "$$𝑃(𝑌=favorable|𝐷=unprivileged)−𝑃(𝑌=favorable|𝐷=privileged)$$\n"
   ]
  },
  {
   "cell_type": "code",
   "execution_count": 8,
   "metadata": {
    "colab": {
     "base_uri": "https://localhost:8080/"
    },
    "execution": {
     "iopub.execute_input": "2023-04-30T18:28:05.165078Z",
     "iopub.status.busy": "2023-04-30T18:28:05.164157Z",
     "iopub.status.idle": "2023-04-30T18:28:05.172787Z",
     "shell.execute_reply": "2023-04-30T18:28:05.171305Z",
     "shell.execute_reply.started": "2023-04-30T18:28:05.165034Z"
    },
    "id": "zm5QQc1Sxu6p",
    "outputId": "62ad8b8c-c479-4aa7-e2f9-0edcd7fa38e6"
   },
   "outputs": [
    {
     "name": "stdout",
     "output_type": "stream",
     "text": [
      "Mean difference (statistical parity difference) = -0.134740\n"
     ]
    }
   ],
   "source": [
    "metric_test_data = BinaryLabelDatasetMetric(test_data, \n",
    "                             unprivileged_groups = unpriv_group,\n",
    "                             privileged_groups   = priv_group)\n",
    "print(\"Mean difference (statistical parity difference) = %f\" % \n",
    "      metric_test_data.statistical_parity_difference())\n"
   ]
  },
  {
   "cell_type": "markdown",
   "metadata": {
    "id": "BhnAjpxdxu6p"
   },
   "source": [
    "To be clear, because we're looking at the original label distribution this is the base rate difference between the two groups"
   ]
  },
  {
   "cell_type": "code",
   "execution_count": 9,
   "metadata": {
    "colab": {
     "base_uri": "https://localhost:8080/"
    },
    "execution": {
     "iopub.execute_input": "2023-04-30T18:44:25.721888Z",
     "iopub.status.busy": "2023-04-30T18:44:25.721004Z",
     "iopub.status.idle": "2023-04-30T18:44:25.729778Z",
     "shell.execute_reply": "2023-04-30T18:44:25.728438Z",
     "shell.execute_reply.started": "2023-04-30T18:44:25.721841Z"
    },
    "id": "sg3bfAz-xu6p",
    "outputId": "a6ca75e4-d578-40ff-d399-650cce26bd14"
   },
   "outputs": [
    {
     "data": {
      "text/plain": [
       "0.4788961038961039"
      ]
     },
     "execution_count": 9,
     "metadata": {},
     "output_type": "execute_result"
    }
   ],
   "source": [
    "metric_test_data.base_rate(False)  # Base rate of the unprivileged group"
   ]
  },
  {
   "cell_type": "code",
   "execution_count": 10,
   "metadata": {
    "colab": {
     "base_uri": "https://localhost:8080/"
    },
    "execution": {
     "iopub.execute_input": "2023-04-30T18:44:36.335527Z",
     "iopub.status.busy": "2023-04-30T18:44:36.334390Z",
     "iopub.status.idle": "2023-04-30T18:44:36.342204Z",
     "shell.execute_reply": "2023-04-30T18:44:36.340810Z",
     "shell.execute_reply.started": "2023-04-30T18:44:36.335483Z"
    },
    "id": "UTZ2MYSbxu6p",
    "outputId": "ec978485-c35d-4c30-8971-0edb25da06df"
   },
   "outputs": [
    {
     "data": {
      "text/plain": [
       "0.6136363636363636"
      ]
     },
     "execution_count": 10,
     "metadata": {},
     "output_type": "execute_result"
    }
   ],
   "source": [
    "metric_test_data.base_rate(True)   # Base rate of the privileged group"
   ]
  },
  {
   "cell_type": "markdown",
   "metadata": {
    "id": "0S8-RwIH9Qu3"
   },
   "source": [
    "To explore the data, it can also help to convert it to a dataframe.\n",
    "Note that here the favorable label is no recidivism (two_year_recid=0), \n",
    "while the mean values are calculated according to two_year_recid=1.\n",
    "Therefore, we get the results as (1 - base rate)."
   ]
  },
  {
   "cell_type": "code",
   "execution_count": 11,
   "metadata": {
    "execution": {
     "iopub.execute_input": "2023-04-30T18:44:51.856741Z",
     "iopub.status.busy": "2023-04-30T18:44:51.855854Z",
     "iopub.status.idle": "2023-04-30T18:44:51.892876Z",
     "shell.execute_reply": "2023-04-30T18:44:51.891437Z",
     "shell.execute_reply.started": "2023-04-30T18:44:51.856700Z"
    },
    "id": "3MCGC1F99Qu3",
    "outputId": "1c87a81d-649a-43c6-e70b-86c8826da43d"
   },
   "outputs": [
    {
     "data": {
      "text/html": [
       "<div>\n",
       "<style scoped>\n",
       "    .dataframe tbody tr th:only-of-type {\n",
       "        vertical-align: middle;\n",
       "    }\n",
       "\n",
       "    .dataframe tbody tr th {\n",
       "        vertical-align: top;\n",
       "    }\n",
       "\n",
       "    .dataframe thead th {\n",
       "        text-align: right;\n",
       "    }\n",
       "</style>\n",
       "<table border=\"1\" class=\"dataframe\">\n",
       "  <thead>\n",
       "    <tr style=\"text-align: right;\">\n",
       "      <th></th>\n",
       "      <th>count</th>\n",
       "      <th>mean</th>\n",
       "      <th>std</th>\n",
       "      <th>min</th>\n",
       "      <th>25%</th>\n",
       "      <th>50%</th>\n",
       "      <th>75%</th>\n",
       "      <th>max</th>\n",
       "    </tr>\n",
       "    <tr>\n",
       "      <th>race</th>\n",
       "      <th></th>\n",
       "      <th></th>\n",
       "      <th></th>\n",
       "      <th></th>\n",
       "      <th></th>\n",
       "      <th></th>\n",
       "      <th></th>\n",
       "      <th></th>\n",
       "    </tr>\n",
       "  </thead>\n",
       "  <tbody>\n",
       "    <tr>\n",
       "      <th>0.0</th>\n",
       "      <td>616.0</td>\n",
       "      <td>0.521104</td>\n",
       "      <td>0.49996</td>\n",
       "      <td>0.0</td>\n",
       "      <td>0.0</td>\n",
       "      <td>1.0</td>\n",
       "      <td>1.0</td>\n",
       "      <td>1.0</td>\n",
       "    </tr>\n",
       "    <tr>\n",
       "      <th>1.0</th>\n",
       "      <td>440.0</td>\n",
       "      <td>0.386364</td>\n",
       "      <td>0.48747</td>\n",
       "      <td>0.0</td>\n",
       "      <td>0.0</td>\n",
       "      <td>0.0</td>\n",
       "      <td>1.0</td>\n",
       "      <td>1.0</td>\n",
       "    </tr>\n",
       "  </tbody>\n",
       "</table>\n",
       "</div>"
      ],
      "text/plain": [
       "      count      mean      std  min  25%  50%  75%  max\n",
       "race                                                   \n",
       "0.0   616.0  0.521104  0.49996  0.0  0.0  1.0  1.0  1.0\n",
       "1.0   440.0  0.386364  0.48747  0.0  0.0  0.0  1.0  1.0"
      ]
     },
     "execution_count": 11,
     "metadata": {},
     "output_type": "execute_result"
    }
   ],
   "source": [
    "test_data.convert_to_dataframe()[0].groupby(['race'])['two_year_recid'].describe()"
   ]
  },
  {
   "cell_type": "markdown",
   "metadata": {},
   "source": [
    "**Report**\n",
    "\n",
    "Report basic statistics in your report, such as the size of the training and test set.\n",
    "\n",
    "Now let's explore the *training* data further.\n",
    "In your report include a short analysis of the training data. Look at the base rates of the outcome variable (two year recidivism) for the combination of both race and sex categories. What do you see?"
   ]
  },
  {
   "cell_type": "markdown",
   "metadata": {
    "id": "u-McnZqSxu6q"
   },
   "source": [
    "# Classifiers\n",
    "\n",
    "**Training classifiers**\n",
    "\n",
    "Now, train the following classifiers:\n",
    "\n",
    "1. A logistic regression classifier making use of all features \n",
    "2. A logistic regression classifier without the race feature\n",
    "3. A classifier after reweighting instances in the training set https://aif360.readthedocs.io/en/latest/modules/generated/aif360.algorithms.preprocessing.Reweighing.html.\n",
    "    * Report the weights that are used for reweighing and a short interpretation/discussion.\n",
    "    * Hint: Think about when you should reweight the data: during initialization or during training (i.e. fit)? Read the documentation of the Logistic regression model in Scikit-learn carefully (if you use it). \n",
    "4. A classifier after post-processing \n",
    "https://aif360.readthedocs.io/en/latest/modules/generated/aif360.algorithms.postprocessing.EqOddsPostprocessing.html#aif360.algorithms.postprocessing.EqOddsPostprocessing \n",
    "\n",
    "For training the classifier we recommend using scikit-learn (https://scikit-learn.org/stable/).\n",
    "AIF360 contains a sklearn wrapper, however that one is in development and not complete.\n",
    "We recommend using the base AIF360 library, and not their sklearn wrapper.\n",
    "\n",
    "**Report**\n",
    "\n",
    "For each of these classifiers, report the following:\n",
    "* Overall precision, recall, F1 and accuracy.\n",
    "* The statistical parity difference. Does this classifier satisfy statistical parity? How does this difference compare to the original dataset?\n",
    "* Difference of true positive rates between the two groups. Does the classifier satisfy the equal opportunity criterion? \n",
    "\n"
   ]
  },
  {
   "cell_type": "code",
   "execution_count": 36,
   "metadata": {
    "execution": {
     "iopub.execute_input": "2023-04-30T20:20:20.339014Z",
     "iopub.status.busy": "2023-04-30T20:20:20.338542Z",
     "iopub.status.idle": "2023-04-30T20:20:20.460213Z",
     "shell.execute_reply": "2023-04-30T20:20:20.457999Z",
     "shell.execute_reply.started": "2023-04-30T20:20:20.338976Z"
    }
   },
   "outputs": [],
   "source": [
    "# PREPROCESSING\n",
    "import numpy as np\n",
    "import pandas as pd\n",
    "from sklearn.linear_model import LogisticRegression\n",
    "from sklearn.metrics import classification_report \n",
    "\n",
    "train_dataframe = train_data.convert_to_dataframe()[0]\n",
    "test_dataframe = test_data.convert_to_dataframe()[0]\n",
    "\n",
    "##features \n",
    "X_train = train_dataframe.iloc[:,:-1]\n",
    "\n",
    "## two year redevicit  \n",
    "y_train = train_dataframe.iloc[:,-1]\n",
    "\n",
    "\n",
    "X_test = test_dataframe.iloc[:,:-1]\n",
    "y_test = test_dataframe.iloc[:,-1]\n"
   ]
  },
  {
   "cell_type": "code",
   "execution_count": 13,
   "metadata": {
    "execution": {
     "iopub.execute_input": "2023-04-30T20:20:58.584277Z",
     "iopub.status.busy": "2023-04-30T20:20:58.583793Z",
     "iopub.status.idle": "2023-04-30T20:20:58.591798Z",
     "shell.execute_reply": "2023-04-30T20:20:58.590574Z",
     "shell.execute_reply.started": "2023-04-30T20:20:58.584226Z"
    }
   },
   "outputs": [
    {
     "data": {
      "text/plain": [
       "pandas.core.frame.DataFrame"
      ]
     },
     "execution_count": 13,
     "metadata": {},
     "output_type": "execute_result"
    }
   ],
   "source": []
  },
  {
   "cell_type": "code",
   "execution_count": 14,
   "metadata": {
    "execution": {
     "iopub.execute_input": "2023-04-30T19:53:35.709328Z",
     "iopub.status.busy": "2023-04-30T19:53:35.708852Z",
     "iopub.status.idle": "2023-04-30T19:53:35.760732Z",
     "shell.execute_reply": "2023-04-30T19:53:35.759055Z",
     "shell.execute_reply.started": "2023-04-30T19:53:35.709286Z"
    }
   },
   "outputs": [
    {
     "name": "stdout",
     "output_type": "stream",
     "text": [
      "convergence after 22 epochs took 0 seconds\n",
      "              precision    recall  f1-score   support\n",
      "\n",
      "         0.0       0.75      0.65      0.70       658\n",
      "         1.0       0.53      0.65      0.58       398\n",
      "\n",
      "    accuracy                           0.65      1056\n",
      "   macro avg       0.64      0.65      0.64      1056\n",
      "weighted avg       0.67      0.65      0.65      1056\n",
      "\n"
     ]
    },
    {
     "name": "stderr",
     "output_type": "stream",
     "text": [
      "[Parallel(n_jobs=1)]: Using backend SequentialBackend with 1 concurrent workers.\n",
      "[Parallel(n_jobs=1)]: Done   1 out of   1 | elapsed:    0.0s finished\n"
     ]
    }
   ],
   "source": [
    "# FIRST CLASSIFIER: A logistic regression classifier making use of all features\n",
    "import seaborn as sns\n",
    "model = LogisticRegression(penalty='l2', fit_intercept=True, solver='saga', multi_class='auto', random_state=True, verbose=1)\n",
    "\n",
    "hist = model.fit(X_train, y_train)\n",
    "\n",
    "y_pred = model.predict(X_test)\n",
    "\n",
    "\n",
    "\n",
    "\n",
    "print(classification_report(y_pred, y_test))\n",
    "\n",
    "\n",
    "\n"
   ]
  },
  {
   "cell_type": "code",
   "execution_count": 15,
   "metadata": {
    "execution": {
     "iopub.execute_input": "2023-04-30T19:57:19.661491Z",
     "iopub.status.busy": "2023-04-30T19:57:19.660928Z",
     "iopub.status.idle": "2023-04-30T19:57:19.689530Z",
     "shell.execute_reply": "2023-04-30T19:57:19.688001Z",
     "shell.execute_reply.started": "2023-04-30T19:57:19.661443Z"
    }
   },
   "outputs": [],
   "source": [
    "if 'race' in X_train:\n",
    "    X_train_wo_race = X_train.loc[:,X_train.columns != 'race']\n",
    "    X_test_wo_race = X_test.loc[:,X_test.columns != 'race']\n",
    "\n",
    "else: \n",
    "    print('race not present in data')"
   ]
  },
  {
   "cell_type": "code",
   "execution_count": 16,
   "metadata": {
    "execution": {
     "iopub.execute_input": "2023-04-30T19:21:30.870227Z",
     "iopub.status.busy": "2023-04-30T19:21:30.869768Z",
     "iopub.status.idle": "2023-04-30T19:21:30.878012Z",
     "shell.execute_reply": "2023-04-30T19:21:30.876637Z",
     "shell.execute_reply.started": "2023-04-30T19:21:30.870186Z"
    }
   },
   "outputs": [
    {
     "name": "stdout",
     "output_type": "stream",
     "text": [
      "convergence after 26 epochs took 0 seconds\n",
      "              precision    recall  f1-score   support\n",
      "\n",
      "         0.0       0.75      0.64      0.69       656\n",
      "         1.0       0.53      0.65      0.58       400\n",
      "\n",
      "    accuracy                           0.64      1056\n",
      "   macro avg       0.64      0.64      0.64      1056\n",
      "weighted avg       0.66      0.64      0.65      1056\n",
      "\n"
     ]
    },
    {
     "name": "stderr",
     "output_type": "stream",
     "text": [
      "[Parallel(n_jobs=1)]: Using backend SequentialBackend with 1 concurrent workers.\n",
      "[Parallel(n_jobs=1)]: Done   1 out of   1 | elapsed:    0.0s finished\n"
     ]
    }
   ],
   "source": [
    "# SECOND CLASSIFIER: A logistic regression classifier without the race feature\n",
    "model_wo_race = LogisticRegression(penalty='l2', fit_intercept=True, solver='saga', multi_class='auto', random_state=True, verbose=1)\n",
    "\n",
    "hist = model_wo_race.fit(X_train_wo_race, y_train)\n",
    "\n",
    "y_pred_wo_race = model_wo_race.predict(X_test_wo_race) #test without race because to keep data shapes similiar \n",
    "\n",
    "\n",
    "\n",
    "print(classification_report(y_pred_wo_race,y_test))\n"
   ]
  },
  {
   "cell_type": "code",
   "execution_count": 17,
   "metadata": {},
   "outputs": [
    {
     "name": "stdout",
     "output_type": "stream",
     "text": [
      "convergence after 22 epochs took 0 seconds\n",
      "              precision    recall  f1-score   support\n",
      "\n",
      "         0.0       0.75      0.65      0.70       658\n",
      "         1.0       0.53      0.65      0.58       398\n",
      "\n",
      "    accuracy                           0.65      1056\n",
      "   macro avg       0.64      0.65      0.64      1056\n",
      "weighted avg       0.67      0.65      0.65      1056\n",
      "\n"
     ]
    },
    {
     "name": "stderr",
     "output_type": "stream",
     "text": [
      "[Parallel(n_jobs=1)]: Using backend SequentialBackend with 1 concurrent workers.\n",
      "[Parallel(n_jobs=1)]: Done   1 out of   1 | elapsed:    0.0s finished\n"
     ]
    }
   ],
   "source": [
    "from aif360.algorithms.preprocessing import Reweighing\n",
    "# THIRD CLASSIFIER: A classifier after reweighting instances in the training \n",
    "#reweighing the dataset, balancing the dataset with \n",
    "#\n",
    "#priv_group   = [{'race': 1}]  # Caucasian\n",
    "#unpriv_group = [{'race': 0}]  # African-American\n",
    "rw = Reweighing(unprivileged_groups=unpriv_group, privileged_groups=priv_group)\n",
    "sensitive_attr = 'race'\n",
    "rw.fit(train_data)\n",
    "train_data_tf = rw.transform(train_data)\n",
    "\n",
    "assert np.abs(train_data_tf.instance_weights.sum()-train_data.instance_weights.sum())<1e-6\n",
    "\n",
    "train_df_rw = train_data_tf.convert_to_dataframe()[0]\n",
    "\n",
    "model_rw = LogisticRegression(penalty='l2', fit_intercept=True, solver='saga', multi_class='auto', random_state=True, verbose=1)\n",
    "\n",
    "##features \n",
    "x_train_tf = train_df_rw.iloc[:,:-1]\n",
    "\n",
    "## two year   \n",
    "y_train_tf = train_df_rw.iloc[:,-1]\n",
    "\n",
    "hist = model_rw.fit(x_train_tf, y_train_tf)\n",
    "\n",
    "\n",
    "y_pred_rw = model.predict(X_test)\n",
    "\n",
    "print(classification_report(y_pred_rw,y_test))\n",
    "\n",
    "\n"
   ]
  },
  {
   "cell_type": "code",
   "execution_count": 60,
   "metadata": {},
   "outputs": [
    {
     "name": "stdout",
     "output_type": "stream",
     "text": [
      "              precision    recall  f1-score   support\n",
      "\n",
      "         0.0       1.00      1.00      1.00       565\n",
      "         1.0       1.00      1.00      1.00       491\n",
      "\n",
      "    accuracy                           1.00      1056\n",
      "   macro avg       1.00      1.00      1.00      1056\n",
      "weighted avg       1.00      1.00      1.00      1056\n",
      "\n"
     ]
    }
   ],
   "source": [
    "# FOURTH CLASSIFIER: A classifier after post-processing\n",
    "from aif360.algorithms.postprocessing import EqOddsPostprocessing\n",
    "from aif360.algorithms.postprocessing import CalibratedEqOddsPostprocessing as CEOP\n",
    "\n",
    "\n",
    "#priv_group   = [{'race': 1}]  # Caucasian\n",
    "#unpriv_group = [{'race': 0}]  # African-American\n",
    "#post = EqOddsPostprocessing(unprivileged_groups=unpriv_group, privileged_groups=priv_group)\n",
    "post2 = CEOP(unprivileged_groups=unpriv_group, privileged_groups=priv_group) #!!!!!TODO assignment requires EqOdds instead of Calibrated EqOdss post processing\n",
    "\n",
    "train_data_true = train_data.copy(deepcopy=True)\n",
    "train_data_pred = train_data.copy(deepcopy=True)\n",
    "\n",
    "#replace the true labels with the predictions from classifier 1\n",
    "train_data_pred.labels = model.predict(X_train).reshape(-1,1)\n",
    "\n",
    "post2.fit(train_data_true,train_data_pred)\n",
    "\n",
    "\n",
    "y_pred_post = post2.predict(test_data)\n",
    "\n",
    "print(classification_report(y_pred_post.labels,y_test))\n",
    "\n",
    "# y_pred_post and test_data appear to be same ?!?!?!?!??!\n",
    "\n",
    "# df1 = y_pred_post.convert_to_dataframe()[0]\n",
    "# df2 = test_data.convert_to_dataframe()[0]\n",
    "# print(np.shape(df1), np.shape(df2))\n",
    "# print(pd.concat([df1,df2]).drop_duplicates(keep=False))\n"
   ]
  },
  {
   "cell_type": "markdown",
   "metadata": {
    "id": "IOxdF1PJxu6q"
   },
   "source": [
    "# Discussion\n",
    "\n",
    "**Report**\n",
    "* Shortly discuss your results. For example, how do the different classifiers compare against each other? \n",
    "* Also include a short ethical discussion (1 or 2 paragraphs) reflecting on these two aspects: 1) The use of a ML system to try to predict recidivism; 2) The public release of a dataset like this.\n"
   ]
  }
 ],
 "metadata": {
  "colab": {
   "name": "programming_assignment_fairness_v2 (2).ipynb",
   "provenance": []
  },
  "kernelspec": {
   "display_name": "Python 3 (ipykernel)",
   "language": "python",
   "name": "python3"
  },
  "language_info": {
   "codemirror_mode": {
    "name": "ipython",
    "version": 3
   },
   "file_extension": ".py",
   "mimetype": "text/x-python",
   "name": "python",
   "nbconvert_exporter": "python",
   "pygments_lexer": "ipython3",
   "version": "3.9.16"
  }
 },
 "nbformat": 4,
 "nbformat_minor": 4
}
